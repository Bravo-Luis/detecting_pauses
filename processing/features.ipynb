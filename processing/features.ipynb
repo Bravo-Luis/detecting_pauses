{
 "cells": [
  {
   "cell_type": "code",
   "execution_count": 64,
   "metadata": {},
   "outputs": [],
   "source": [
    "import pandas as pd\n",
    "from scipy.stats import entropy\n",
    "import numpy as np\n",
    "\n",
    "from sklearn.preprocessing import StandardScaler\n",
    "from imblearn.over_sampling import RandomOverSampler"
   ]
  },
  {
   "cell_type": "code",
   "execution_count": 65,
   "metadata": {},
   "outputs": [],
   "source": [
    "def prepare_dataset(df):\n",
    "    df = df.dropna()\n",
    "    \n",
    "    client_ip = df['Destination'].value_counts().idxmax()\n",
    "    df['packet_direction'] = (df['Source'] == client_ip).astype(int)\n",
    "\n",
    "    protocol_dummies = pd.get_dummies(df[\"Protocol\"], prefix='proto')\n",
    "    df = pd.concat([df, protocol_dummies], axis=1)\n",
    "    \n",
    "    protocols = ['proto_DNS', 'proto_HTTP', 'proto_HTTP/JSON', 'proto_QUIC', 'proto_TCP', 'proto_TLSv1.2', 'proto_TLSv1.3', 'proto_WebSocket']\n",
    "    for protocol in protocols:\n",
    "        if protocol in df.columns:\n",
    "            df[f'rolling_count_{protocol}'] = df[protocol].rolling(window=20).sum()\n",
    "    \n",
    "    df['entropy_packet_length'] = df['Length'].rolling(window=20).apply(entropy, raw=True).fillna(0)\n",
    "    df['inter_arrival_time'] = df['Time'].diff().fillna(0)\n",
    "    \n",
    "    df['fourier_packet_time'] = np.abs(np.fft.fft(df['inter_arrival_time']))\n",
    "    df['ema_packet_size'] = df['Length'].ewm(span=5, adjust=False).mean()\n",
    "    \n",
    "    df['packet_size_change'] = df['Length'].diff().fillna(0)\n",
    "    df = calculate_time_since_last(df, 'Time', 'Protocol', 'HTTP') \n",
    "    df = calculate_time_since_last(df, 'Time', 'Protocol', 'DNS') \n",
    "    df = calculate_time_since_last(df, 'Time', 'Protocol', 'HTTP/JSON') \n",
    "    df = calculate_time_since_last(df, 'Time', 'Protocol', 'QUIC') \n",
    "\n",
    "    # Adding rolling average and median for time_since_last_DNS\n",
    "    df['rolling_avg_time_since_last_DNS'] = df['time_since_last_DNS'].rolling(window=2000).mean().fillna(0)\n",
    "    df['rolling_median_time_since_last_DNS'] = df['time_since_last_DNS'].rolling(window=2000).median().fillna(0)\n",
    "    df['rolling_std_time_since_last_DNS'] = df['time_since_last_DNS'].rolling(window=2000).std().fillna(0)\n",
    "    df['rolling_var_time_since_last_DNS'] = df['time_since_last_DNS'].rolling(window=2000).var().fillna(0)\n",
    "    \n",
    "    df = calculate_std_inter_arrival_time(df)\n",
    "    \n",
    "\n",
    "    # TODO: fix the Unnamed: 0 column\n",
    "    return df.drop([\n",
    "        'Unnamed: 0'\n",
    "        ], axis=1)\n",
    "    \n",
    "def calculate_std_inter_arrival_time(df):\n",
    "  df['std_inter_arrival_time'] = df['inter_arrival_time'].rolling(window=20).std().fillna(0)\n",
    "  return df\n",
    "\n",
    "\n",
    "\n",
    "\n",
    "def calculate_time_since_last(df, time_column, protocol_column, protocol_value):\n",
    "    protocol_mask = df[protocol_column] == protocol_value\n",
    "    df[f'last_time_{protocol_value}'] = df.loc[protocol_mask, time_column]\n",
    "    df[f'last_time_{protocol_value}'] = df[f'last_time_{protocol_value}'].ffill()\n",
    "    df[f'time_since_last_{protocol_value}'] = df[time_column] - df[f'last_time_{protocol_value}']\n",
    "\n",
    "    return df\n"
   ]
  },
  {
   "cell_type": "code",
   "execution_count": 66,
   "metadata": {},
   "outputs": [],
   "source": [
    "def balance_dataset(df, target_column):\n",
    "    # Separate features and target variable\n",
    "    X = df.drop(target_column, axis=1)\n",
    "    y = df[target_column]\n",
    "\n",
    "    # Initialize the RandomOverSampler\n",
    "    oversampler = RandomOverSampler(random_state=42)\n",
    "\n",
    "    # Fit the oversampler and resample the data\n",
    "    X_resampled, y_resampled = oversampler.fit_resample(X, y)\n",
    "\n",
    "    # Combine the resampled features and target into a single DataFrame\n",
    "    balanced_df = pd.DataFrame(X_resampled, columns=X.columns)\n",
    "    balanced_df[target_column] = y_resampled\n",
    "\n",
    "    return balanced_df\n",
    "\n",
    "\n"
   ]
  },
  {
   "cell_type": "code",
   "execution_count": 67,
   "metadata": {},
   "outputs": [
    {
     "name": "stderr",
     "output_type": "stream",
     "text": [
      "/var/folders/8c/vm2x3bxx61bgbh0ntqhb7b400000gn/T/ipykernel_19348/2474298314.py:5: SettingWithCopyWarning: \n",
      "A value is trying to be set on a copy of a slice from a DataFrame.\n",
      "Try using .loc[row_indexer,col_indexer] = value instead\n",
      "\n",
      "See the caveats in the documentation: https://pandas.pydata.org/pandas-docs/stable/user_guide/indexing.html#returning-a-view-versus-a-copy\n",
      "  df['packet_direction'] = (df['Source'] == client_ip).astype(int)\n"
     ]
    }
   ],
   "source": [
    "for batch in range(1,5):\n",
    "\n",
    "    df1 = pd.read_csv(f'../datasets/batch_{batch}/dataset_600_sec.csv')\n",
    "    df2 = pd.read_csv(f'../datasets/batch_{batch}/dataset_600_sec (1).csv')\n",
    "    df3 = pd.read_csv(f'../datasets/batch_{batch}/dataset_600_sec (2).csv')\n",
    "    df4 = pd.read_csv(f'../datasets/batch_{batch}/dataset_600_sec (3).csv')\n",
    "    df5 = pd.read_csv(f'../datasets/batch_{batch}/dataset_600_sec (4).csv')\n",
    "    df6 = pd.read_csv(f'../datasets/batch_{batch}/dataset_600_sec (5).csv')\n",
    "\n",
    "    df1 = prepare_dataset(df1)\n",
    "    df2 = prepare_dataset(df2)\n",
    "    df3 = prepare_dataset(df3)\n",
    "    df4 = prepare_dataset(df4)\n",
    "    df5 = prepare_dataset(df5)\n",
    "    df6 = prepare_dataset(df6)\n",
    "\n",
    "    df = pd.concat([df1, df2, df3, df4, df5, df6])\n",
    "    df.dropna(inplace=True)\n",
    "\n",
    "    df = balance_dataset(df, 'curr_state')\n",
    "\n",
    "    df.to_csv(f'../datasets/batch_{batch}/combined.csv', index=False)\n",
    "\n"
   ]
  },
  {
   "cell_type": "code",
   "execution_count": 68,
   "metadata": {},
   "outputs": [],
   "source": [
    "df1 = pd.read_csv(f'../datasets/test/dataset_600_sec.csv')\n",
    "df2 = pd.read_csv(f'../datasets/test/dataset_600_sec (1).csv')\n",
    "df3 = pd.read_csv(f'../datasets/test/dataset_600_sec (2).csv')\n",
    "df4 = pd.read_csv(f'../datasets/test/dataset_600_sec (3).csv')\n",
    "df5 = pd.read_csv(f'../datasets/test/dataset_600_sec (4).csv')\n",
    "df6 = pd.read_csv(f'../datasets/test/dataset_600_sec (5).csv')\n",
    "\n",
    "df1 = prepare_dataset(df1)\n",
    "df2 = prepare_dataset(df2)\n",
    "df3 = prepare_dataset(df3)\n",
    "df4 = prepare_dataset(df4)\n",
    "df5 = prepare_dataset(df5)\n",
    "df6 = prepare_dataset(df6)\n",
    "\n",
    "df = pd.concat([df1, df2, df3, df4, df5, df6])\n",
    "df.dropna(inplace=True)\n",
    "\n",
    "df = balance_dataset(df, 'curr_state')\n",
    "\n",
    "df.to_csv(f'../datasets/test/combined.csv', index=False)\n"
   ]
  }
 ],
 "metadata": {
  "kernelspec": {
   "display_name": "venv",
   "language": "python",
   "name": "python3"
  },
  "language_info": {
   "codemirror_mode": {
    "name": "ipython",
    "version": 3
   },
   "file_extension": ".py",
   "mimetype": "text/x-python",
   "name": "python",
   "nbconvert_exporter": "python",
   "pygments_lexer": "ipython3",
   "version": "3.11.5"
  }
 },
 "nbformat": 4,
 "nbformat_minor": 2
}
