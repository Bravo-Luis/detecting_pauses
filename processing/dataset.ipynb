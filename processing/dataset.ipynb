{
 "cells": [
  {
   "cell_type": "code",
   "execution_count": 63,
   "metadata": {},
   "outputs": [],
   "source": [
    "import pandas as pd\n",
    "import numpy as np"
   ]
  },
  {
   "cell_type": "code",
   "execution_count": 64,
   "metadata": {},
   "outputs": [],
   "source": [
    "columns_to_read = ['curr_state', 'time_since_last_DNS' ,'rolling_avg_time_since_last_DNS', 'rolling_median_time_since_last_DNS', 'rolling_std_time_since_last_DNS', 'rolling_var_time_since_last_DNS']"
   ]
  },
  {
   "cell_type": "code",
   "execution_count": 65,
   "metadata": {},
   "outputs": [],
   "source": [
    "combined_df = pd.DataFrame()\n",
    "\n",
    "for batch in range(1, 5):\n",
    "    df = pd.read_csv(f'../datasets/batch_{batch}/combined.csv', usecols=columns_to_read)\n",
    "    combined_df = pd.concat([combined_df, df], ignore_index=True)\n",
    "combined_df = combined_df[combined_df['curr_state'] != -1]\n",
    "combined_df = combined_df.dropna()\n",
    "combined_df.to_csv('../datasets/combined_batches.csv', index=False)\n"
   ]
  },
  {
   "cell_type": "code",
   "execution_count": 66,
   "metadata": {},
   "outputs": [],
   "source": [
    "combined_test_df = pd.DataFrame()\n",
    "\n",
    "combined_test_df = pd.read_csv(f'../datasets/test/combined.csv', usecols=columns_to_read)\n",
    "\n",
    "combined_test_df = combined_test_df[combined_test_df['curr_state'] != -1]\n",
    "combined_test_df = combined_test_df.dropna()\n",
    "combined_test_df.to_csv('../datasets/test_batches.csv', index=False)\n"
   ]
  },
  {
   "cell_type": "code",
   "execution_count": 67,
   "metadata": {},
   "outputs": [
    {
     "data": {
      "text/plain": [
       "array([1, 2, 3])"
      ]
     },
     "execution_count": 67,
     "metadata": {},
     "output_type": "execute_result"
    }
   ],
   "source": [
    "combined_df['curr_state'].unique()"
   ]
  },
  {
   "cell_type": "code",
   "execution_count": 68,
   "metadata": {},
   "outputs": [
    {
     "data": {
      "text/plain": [
       "4180785"
      ]
     },
     "execution_count": 68,
     "metadata": {},
     "output_type": "execute_result"
    }
   ],
   "source": [
    "combined_df[combined_df.columns[0]].count()"
   ]
  },
  {
   "cell_type": "code",
   "execution_count": 69,
   "metadata": {},
   "outputs": [
    {
     "data": {
      "text/plain": [
       "1    1393595\n",
       "2    1393595\n",
       "3    1393595\n",
       "Name: curr_state, dtype: int64"
      ]
     },
     "execution_count": 69,
     "metadata": {},
     "output_type": "execute_result"
    }
   ],
   "source": [
    "combined_df['curr_state'].value_counts()"
   ]
  }
 ],
 "metadata": {
  "kernelspec": {
   "display_name": "venv",
   "language": "python",
   "name": "python3"
  },
  "language_info": {
   "codemirror_mode": {
    "name": "ipython",
    "version": 3
   },
   "file_extension": ".py",
   "mimetype": "text/x-python",
   "name": "python",
   "nbconvert_exporter": "python",
   "pygments_lexer": "ipython3",
   "version": "3.11.5"
  }
 },
 "nbformat": 4,
 "nbformat_minor": 2
}
